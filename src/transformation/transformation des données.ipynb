{
 "cells": [
  {
   "cell_type": "code",
   "execution_count": 1,
   "metadata": {
    "collapsed": true
   },
   "outputs": [],
   "source": [
    "import pandas as pd\n",
    "import os\n",
    "import json\n",
    "import glob\n",
    "import sqlite3\n",
    "import numpy as np\n",
    "import matplotlib as plt\n",
    "import seaborn as sns\n",
    "import matplotlib.pyplot as plt\n",
    "%matplotlib inline"
   ]
  },
  {
   "cell_type": "code",
   "execution_count": 2,
   "metadata": {
    "collapsed": true
   },
   "outputs": [],
   "source": [
    "## Création de constantes (en majuscules par défaut) :\n",
    "\n",
    "# Répertoire de données (data directory)\n",
    "DATA_DIR = '../../data'\n",
    "\n",
    "#Depuis l'endroit où je suis, c'est la façon d'aller au dossier data (../.. : je suis dans explo, \n",
    "# .. remonte src et hands on project)\n",
    "\n",
    "# Répertoire temporaire (temporary directory)\n",
    "TMP_DIR = '../../tmp'\n",
    "\n",
    "##On peut remplacer cette étape par l'utilisation d'un fichier Json"
   ]
  },
  {
   "cell_type": "code",
   "execution_count": 3,
   "metadata": {
    "collapsed": true
   },
   "outputs": [],
   "source": [
    "##Lecture de fichier Json\n",
    "with open('../parameters.json') as json_data:\n",
    "    params = json.load(json_data)\n",
    "#Params devient un dictionnaire de variables"
   ]
  },
  {
   "cell_type": "code",
   "execution_count": 4,
   "metadata": {
    "collapsed": true
   },
   "outputs": [],
   "source": [
    "#On affecte les valeurs du dictionnaire aux variables correspondantes\n",
    "DATA_DIR = params['DIRECTORIES']['DATA_DIR']\n",
    "TMP_DIR = params['DIRECTORIES']['TMP_DIR']\n",
    "PRICE_FILE = params['FILES']['PRICE_FILE']\n",
    "STATION_FILE = params['FILES']['STATION_FILE']\n",
    "SERVICE_FILE = params['FILES']['SERVICE_FILE']\n",
    "GAS_DB = os.path.join(DATA_DIR, params['DATABASES']['GAS_DB'])"
   ]
  },
  {
   "cell_type": "code",
   "execution_count": 5,
   "metadata": {
    "collapsed": true
   },
   "outputs": [],
   "source": [
    "df_all = pd.read_pickle(os.path.join(DATA_DIR, PRICE_FILE))\n",
    "df_service = pd.read_pickle(os.path.join(DATA_DIR, SERVICE_FILE))\n",
    "df_station = pd.read_pickle(os.path.join(DATA_DIR, STATION_FILE))"
   ]
  },
  {
   "cell_type": "markdown",
   "metadata": {},
   "source": [
    "# Calcul de l'indice de prix"
   ]
  },
  {
   "cell_type": "code",
   "execution_count": 8,
   "metadata": {
    "collapsed": true
   },
   "outputs": [],
   "source": [
    "#On convertit la date dans un meilleur format\n",
    "df_all['date_releve'] = pd.to_datetime(df_all.date_releve)"
   ]
  },
  {
   "cell_type": "code",
   "execution_count": 19,
   "metadata": {},
   "outputs": [],
   "source": [
    "moyenne_hebdo_df = (df_all.\n",
    "                   dropna(subset=['date_releve']).\n",
    "                    groupby(['id_station', 'libelle_carburant', pd.Grouper(key = 'date_releve', freq = '1W-MON')]).\n",
    "                    agg({'prix' : np.mean}).\n",
    "                    reset_index()\n",
    "                   ).head()"
   ]
  },
  {
   "cell_type": "code",
   "execution_count": 10,
   "metadata": {},
   "outputs": [
    {
     "data": {
      "text/html": [
       "<div>\n",
       "<style>\n",
       "    .dataframe thead tr:only-child th {\n",
       "        text-align: right;\n",
       "    }\n",
       "\n",
       "    .dataframe thead th {\n",
       "        text-align: left;\n",
       "    }\n",
       "\n",
       "    .dataframe tbody tr th {\n",
       "        vertical-align: top;\n",
       "    }\n",
       "</style>\n",
       "<table border=\"1\" class=\"dataframe\">\n",
       "  <thead>\n",
       "    <tr style=\"text-align: right;\">\n",
       "      <th></th>\n",
       "      <th></th>\n",
       "      <th></th>\n",
       "      <th>prix</th>\n",
       "    </tr>\n",
       "    <tr>\n",
       "      <th>id_station</th>\n",
       "      <th>libelle_carburant</th>\n",
       "      <th>date_releve</th>\n",
       "      <th></th>\n",
       "    </tr>\n",
       "  </thead>\n",
       "  <tbody>\n",
       "    <tr>\n",
       "      <th rowspan=\"5\" valign=\"top\">1000001</th>\n",
       "      <th>E10</th>\n",
       "      <th>2015-02-09</th>\n",
       "      <td>1309.0</td>\n",
       "    </tr>\n",
       "    <tr>\n",
       "      <th rowspan=\"4\" valign=\"top\">Gazole</th>\n",
       "      <th>2014-01-06</th>\n",
       "      <td>1304.0</td>\n",
       "    </tr>\n",
       "    <tr>\n",
       "      <th>2014-01-13</th>\n",
       "      <td>1304.0</td>\n",
       "    </tr>\n",
       "    <tr>\n",
       "      <th>2014-01-20</th>\n",
       "      <td>1304.0</td>\n",
       "    </tr>\n",
       "    <tr>\n",
       "      <th>2014-01-27</th>\n",
       "      <td>1304.0</td>\n",
       "    </tr>\n",
       "  </tbody>\n",
       "</table>\n",
       "</div>"
      ],
      "text/plain": [
       "                                            prix\n",
       "id_station libelle_carburant date_releve        \n",
       "1000001    E10               2015-02-09   1309.0\n",
       "           Gazole            2014-01-06   1304.0\n",
       "                             2014-01-13   1304.0\n",
       "                             2014-01-20   1304.0\n",
       "                             2014-01-27   1304.0"
      ]
     },
     "execution_count": 10,
     "metadata": {},
     "output_type": "execute_result"
    }
   ],
   "source": [
    "moyenne_hebdo_df.head()"
   ]
  },
  {
   "cell_type": "code",
   "execution_count": 26,
   "metadata": {},
   "outputs": [],
   "source": [
    "model_df = (df_all\n",
    ".dropna(subset=['date_releve'])\n",
    ".groupby(['id_station','libelle_carburant', pd.Grouper(key = 'date_releve', freq = '1W-MON')])\n",
    ".agg({'prix' : np.mean})\n",
    ".reset_index()\n",
    ".merge(moyenne_hebdo_df, how='inner', on=['libelle_carburant', 'date_releve'], suffixes=('','_moyen'))\n",
    ".assign(indice = lambda _df : _df['prix']/ _df['prix_moyen']\n",
    "       ))"
   ]
  },
  {
   "cell_type": "code",
   "execution_count": 27,
   "metadata": {},
   "outputs": [
    {
     "data": {
      "text/plain": [
       "(26481, 7)"
      ]
     },
     "execution_count": 27,
     "metadata": {},
     "output_type": "execute_result"
    }
   ],
   "source": [
    "model_df.shape"
   ]
  },
  {
   "cell_type": "code",
   "execution_count": 28,
   "metadata": {},
   "outputs": [
    {
     "data": {
      "text/html": [
       "<div>\n",
       "<style>\n",
       "    .dataframe thead tr:only-child th {\n",
       "        text-align: right;\n",
       "    }\n",
       "\n",
       "    .dataframe thead th {\n",
       "        text-align: left;\n",
       "    }\n",
       "\n",
       "    .dataframe tbody tr th {\n",
       "        vertical-align: top;\n",
       "    }\n",
       "</style>\n",
       "<table border=\"1\" class=\"dataframe\">\n",
       "  <thead>\n",
       "    <tr style=\"text-align: right;\">\n",
       "      <th></th>\n",
       "      <th>id_station</th>\n",
       "      <th>libelle_carburant</th>\n",
       "      <th>date_releve</th>\n",
       "      <th>prix</th>\n",
       "      <th>id_station_moyen</th>\n",
       "      <th>prix_moyen</th>\n",
       "      <th>indice</th>\n",
       "    </tr>\n",
       "  </thead>\n",
       "  <tbody>\n",
       "    <tr>\n",
       "      <th>0</th>\n",
       "      <td>1000001</td>\n",
       "      <td>E10</td>\n",
       "      <td>2015-02-09</td>\n",
       "      <td>1309.000000</td>\n",
       "      <td>1000001</td>\n",
       "      <td>1309.0</td>\n",
       "      <td>1.000000</td>\n",
       "    </tr>\n",
       "    <tr>\n",
       "      <th>1</th>\n",
       "      <td>1000007</td>\n",
       "      <td>E10</td>\n",
       "      <td>2015-02-09</td>\n",
       "      <td>1269.800000</td>\n",
       "      <td>1000001</td>\n",
       "      <td>1309.0</td>\n",
       "      <td>0.970053</td>\n",
       "    </tr>\n",
       "    <tr>\n",
       "      <th>2</th>\n",
       "      <td>1000008</td>\n",
       "      <td>E10</td>\n",
       "      <td>2015-02-09</td>\n",
       "      <td>1272.333333</td>\n",
       "      <td>1000001</td>\n",
       "      <td>1309.0</td>\n",
       "      <td>0.971989</td>\n",
       "    </tr>\n",
       "    <tr>\n",
       "      <th>3</th>\n",
       "      <td>1000009</td>\n",
       "      <td>E10</td>\n",
       "      <td>2015-02-09</td>\n",
       "      <td>1267.500000</td>\n",
       "      <td>1000001</td>\n",
       "      <td>1309.0</td>\n",
       "      <td>0.968296</td>\n",
       "    </tr>\n",
       "    <tr>\n",
       "      <th>4</th>\n",
       "      <td>1100001</td>\n",
       "      <td>E10</td>\n",
       "      <td>2015-02-09</td>\n",
       "      <td>1274.000000</td>\n",
       "      <td>1000001</td>\n",
       "      <td>1309.0</td>\n",
       "      <td>0.973262</td>\n",
       "    </tr>\n",
       "  </tbody>\n",
       "</table>\n",
       "</div>"
      ],
      "text/plain": [
       "   id_station libelle_carburant date_releve         prix  id_station_moyen  \\\n",
       "0     1000001               E10  2015-02-09  1309.000000           1000001   \n",
       "1     1000007               E10  2015-02-09  1269.800000           1000001   \n",
       "2     1000008               E10  2015-02-09  1272.333333           1000001   \n",
       "3     1000009               E10  2015-02-09  1267.500000           1000001   \n",
       "4     1100001               E10  2015-02-09  1274.000000           1000001   \n",
       "\n",
       "   prix_moyen    indice  \n",
       "0      1309.0  1.000000  \n",
       "1      1309.0  0.970053  \n",
       "2      1309.0  0.971989  \n",
       "3      1309.0  0.968296  \n",
       "4      1309.0  0.973262  "
      ]
     },
     "execution_count": 28,
     "metadata": {},
     "output_type": "execute_result"
    }
   ],
   "source": [
    "model_df.head()"
   ]
  },
  {
   "cell_type": "code",
   "execution_count": 29,
   "metadata": {},
   "outputs": [
    {
     "data": {
      "text/plain": [
       "count    26481.000000\n",
       "mean         1.023507\n",
       "std          0.039994\n",
       "min          0.870399\n",
       "25%          0.998466\n",
       "50%          1.011503\n",
       "75%          1.042271\n",
       "max          1.379601\n",
       "Name: indice, dtype: float64"
      ]
     },
     "execution_count": 29,
     "metadata": {},
     "output_type": "execute_result"
    }
   ],
   "source": [
    "model_df.indice.describe()"
   ]
  },
  {
   "cell_type": "code",
   "execution_count": null,
   "metadata": {
    "collapsed": true
   },
   "outputs": [],
   "source": []
  },
  {
   "cell_type": "code",
   "execution_count": null,
   "metadata": {
    "collapsed": true
   },
   "outputs": [],
   "source": []
  },
  {
   "cell_type": "code",
   "execution_count": null,
   "metadata": {
    "collapsed": true
   },
   "outputs": [],
   "source": []
  },
  {
   "cell_type": "code",
   "execution_count": null,
   "metadata": {
    "collapsed": true
   },
   "outputs": [],
   "source": []
  },
  {
   "cell_type": "code",
   "execution_count": null,
   "metadata": {
    "collapsed": true
   },
   "outputs": [],
   "source": []
  },
  {
   "cell_type": "code",
   "execution_count": null,
   "metadata": {
    "collapsed": true
   },
   "outputs": [],
   "source": []
  },
  {
   "cell_type": "code",
   "execution_count": null,
   "metadata": {
    "collapsed": true
   },
   "outputs": [],
   "source": []
  },
  {
   "cell_type": "code",
   "execution_count": null,
   "metadata": {
    "collapsed": true
   },
   "outputs": [],
   "source": []
  },
  {
   "cell_type": "code",
   "execution_count": null,
   "metadata": {
    "collapsed": true
   },
   "outputs": [],
   "source": []
  },
  {
   "cell_type": "code",
   "execution_count": null,
   "metadata": {
    "collapsed": true
   },
   "outputs": [],
   "source": []
  },
  {
   "cell_type": "code",
   "execution_count": null,
   "metadata": {
    "collapsed": true
   },
   "outputs": [],
   "source": []
  },
  {
   "cell_type": "code",
   "execution_count": null,
   "metadata": {
    "collapsed": true
   },
   "outputs": [],
   "source": []
  }
 ],
 "metadata": {
  "kernelspec": {
   "display_name": "Python 3",
   "language": "python",
   "name": "python3"
  },
  "language_info": {
   "codemirror_mode": {
    "name": "ipython",
    "version": 3
   },
   "file_extension": ".py",
   "mimetype": "text/x-python",
   "name": "python",
   "nbconvert_exporter": "python",
   "pygments_lexer": "ipython3",
   "version": "3.6.1"
  }
 },
 "nbformat": 4,
 "nbformat_minor": 2
}
