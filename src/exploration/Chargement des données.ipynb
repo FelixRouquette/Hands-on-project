{
 "cells": [
  {
   "cell_type": "code",
   "execution_count": 24,
   "metadata": {
    "collapsed": true
   },
   "outputs": [],
   "source": [
    "import pandas as pd\n",
    "import os\n",
    "import json"
   ]
  },
  {
   "cell_type": "code",
   "execution_count": 2,
   "metadata": {
    "collapsed": true
   },
   "outputs": [],
   "source": [
    "## Création de constantes (en majuscules par défaut) :\n",
    "\n",
    "# Répertoire de données (data directory)\n",
    "DATA_DIR = '../../data'\n",
    "\n",
    "#Depuis l'endroit où je suis, c'est la façon d'aller au dossier data (../.. : je suis dans explo, \n",
    "# .. remonte src et hands on project)\n",
    "\n",
    "# Répertoire temporaire (temporary directory)\n",
    "TMP_DIR = '../../tmp'\n",
    "\n",
    "##On peut remplacer cette étape par l'utilisation d'un fichier Json"
   ]
  },
  {
   "cell_type": "code",
   "execution_count": 28,
   "metadata": {
    "collapsed": true
   },
   "outputs": [],
   "source": [
    "##Lecture de fichier Json\n",
    "with open('../parameters.json') as json_data:\n",
    "    params = json.load(json_data)\n",
    "#Params devient un dictionnaire de variables"
   ]
  },
  {
   "cell_type": "code",
   "execution_count": 29,
   "metadata": {},
   "outputs": [
    {
     "data": {
      "text/plain": [
       "{'DIRECTORIES': {'DATA_DIR': '../..data', 'TMP_DIR': '../..tmp'}}"
      ]
     },
     "execution_count": 29,
     "metadata": {},
     "output_type": "execute_result"
    }
   ],
   "source": [
    "params"
   ]
  },
  {
   "cell_type": "code",
   "execution_count": 30,
   "metadata": {
    "collapsed": true
   },
   "outputs": [],
   "source": [
    "#On affecte les valeurs du dictionnaire aux variables correspondantes\n",
    "DATA_DIR = params['DIRECTORIES']['DATA_DIR']\n",
    "TMP_DIR = params['DIRECTORIES']['TMP_DIR']"
   ]
  },
  {
   "cell_type": "code",
   "execution_count": 10,
   "metadata": {
    "collapsed": true
   },
   "outputs": [],
   "source": [
    "##Lecture de données depuis le zip file : \n",
    "\n",
    "gas_files = ['Prix2014.zip', 'Prix2015.zip', 'Prix2016.zip']\n",
    "#Liste de fichiers contenant des données de prix de carburant\n",
    "\n",
    "stations_file = 'Stations.zip'\n",
    "#Fichier (pas besoin de liste puisqu'il est unique) contenant des données de stations\n",
    "\n",
    "services_file = 'Services2016.zip'\n",
    "#Fichier contenant des données de services"
   ]
  },
  {
   "cell_type": "code",
   "execution_count": 20,
   "metadata": {
    "collapsed": true
   },
   "outputs": [],
   "source": [
    "#Ouverture de jeu de données : \n",
    "\n",
    "df_2014 = pd.read_csv(DATA_DIR + '/' + gas_files[0])\n",
    "#Version cochonne\n",
    "\n",
    "df_2014 = pd.read_csv(os.path.join(DATA_DIR,gas_files[0]), sep = ';', header = None, dtype = {1: str})\n",
    "#Version propre"
   ]
  },
  {
   "cell_type": "code",
   "execution_count": 14,
   "metadata": {},
   "outputs": [
    {
     "data": {
      "text/html": [
       "<div>\n",
       "<style>\n",
       "    .dataframe thead tr:only-child th {\n",
       "        text-align: right;\n",
       "    }\n",
       "\n",
       "    .dataframe thead th {\n",
       "        text-align: left;\n",
       "    }\n",
       "\n",
       "    .dataframe tbody tr th {\n",
       "        vertical-align: top;\n",
       "    }\n",
       "</style>\n",
       "<table border=\"1\" class=\"dataframe\">\n",
       "  <thead>\n",
       "    <tr style=\"text-align: right;\">\n",
       "      <th></th>\n",
       "      <th>0</th>\n",
       "      <th>1</th>\n",
       "      <th>2</th>\n",
       "      <th>3</th>\n",
       "      <th>4</th>\n",
       "      <th>5</th>\n",
       "      <th>6</th>\n",
       "      <th>7</th>\n",
       "      <th>8</th>\n",
       "    </tr>\n",
       "  </thead>\n",
       "  <tbody>\n",
       "    <tr>\n",
       "      <th>0</th>\n",
       "      <td>1000001</td>\n",
       "      <td>1000</td>\n",
       "      <td>R</td>\n",
       "      <td>4620114.0</td>\n",
       "      <td>519791.0</td>\n",
       "      <td>2014-01-02 11:08:03</td>\n",
       "      <td>1.0</td>\n",
       "      <td>Gazole</td>\n",
       "      <td>1304.0</td>\n",
       "    </tr>\n",
       "    <tr>\n",
       "      <th>1</th>\n",
       "      <td>1000001</td>\n",
       "      <td>1000</td>\n",
       "      <td>R</td>\n",
       "      <td>4620114.0</td>\n",
       "      <td>519791.0</td>\n",
       "      <td>2014-01-04 09:54:03</td>\n",
       "      <td>1.0</td>\n",
       "      <td>Gazole</td>\n",
       "      <td>1304.0</td>\n",
       "    </tr>\n",
       "    <tr>\n",
       "      <th>2</th>\n",
       "      <td>1000001</td>\n",
       "      <td>1000</td>\n",
       "      <td>R</td>\n",
       "      <td>4620114.0</td>\n",
       "      <td>519791.0</td>\n",
       "      <td>2014-01-05 10:27:09</td>\n",
       "      <td>1.0</td>\n",
       "      <td>Gazole</td>\n",
       "      <td>1304.0</td>\n",
       "    </tr>\n",
       "    <tr>\n",
       "      <th>3</th>\n",
       "      <td>1000001</td>\n",
       "      <td>1000</td>\n",
       "      <td>R</td>\n",
       "      <td>4620114.0</td>\n",
       "      <td>519791.0</td>\n",
       "      <td>2014-01-06 09:07:51</td>\n",
       "      <td>1.0</td>\n",
       "      <td>Gazole</td>\n",
       "      <td>1304.0</td>\n",
       "    </tr>\n",
       "    <tr>\n",
       "      <th>4</th>\n",
       "      <td>1000001</td>\n",
       "      <td>1000</td>\n",
       "      <td>R</td>\n",
       "      <td>4620114.0</td>\n",
       "      <td>519791.0</td>\n",
       "      <td>2014-01-07 09:23:56</td>\n",
       "      <td>1.0</td>\n",
       "      <td>Gazole</td>\n",
       "      <td>1304.0</td>\n",
       "    </tr>\n",
       "  </tbody>\n",
       "</table>\n",
       "</div>"
      ],
      "text/plain": [
       "         0     1  2          3         4                    5    6       7  \\\n",
       "0  1000001  1000  R  4620114.0  519791.0  2014-01-02 11:08:03  1.0  Gazole   \n",
       "1  1000001  1000  R  4620114.0  519791.0  2014-01-04 09:54:03  1.0  Gazole   \n",
       "2  1000001  1000  R  4620114.0  519791.0  2014-01-05 10:27:09  1.0  Gazole   \n",
       "3  1000001  1000  R  4620114.0  519791.0  2014-01-06 09:07:51  1.0  Gazole   \n",
       "4  1000001  1000  R  4620114.0  519791.0  2014-01-07 09:23:56  1.0  Gazole   \n",
       "\n",
       "        8  \n",
       "0  1304.0  \n",
       "1  1304.0  \n",
       "2  1304.0  \n",
       "3  1304.0  \n",
       "4  1304.0  "
      ]
     },
     "execution_count": 14,
     "metadata": {},
     "output_type": "execute_result"
    }
   ],
   "source": [
    "##Observation des données :\n",
    "\n",
    "df_2014.columns\n",
    "#On remarque un défaut de séparateur\n"
   ]
  },
  {
   "cell_type": "code",
   "execution_count": 23,
   "metadata": {},
   "outputs": [
    {
     "data": {
      "text/html": [
       "<div>\n",
       "<style>\n",
       "    .dataframe thead tr:only-child th {\n",
       "        text-align: right;\n",
       "    }\n",
       "\n",
       "    .dataframe thead th {\n",
       "        text-align: left;\n",
       "    }\n",
       "\n",
       "    .dataframe tbody tr th {\n",
       "        vertical-align: top;\n",
       "    }\n",
       "</style>\n",
       "<table border=\"1\" class=\"dataframe\">\n",
       "  <thead>\n",
       "    <tr style=\"text-align: right;\">\n",
       "      <th></th>\n",
       "      <th>id_station</th>\n",
       "      <th>code_postal</th>\n",
       "      <th>type_station</th>\n",
       "      <th>latitude</th>\n",
       "      <th>longitude</th>\n",
       "      <th>date_releve</th>\n",
       "      <th>type_carburant</th>\n",
       "      <th>libelle_carburant</th>\n",
       "      <th>prix</th>\n",
       "    </tr>\n",
       "  </thead>\n",
       "  <tbody>\n",
       "    <tr>\n",
       "      <th>0</th>\n",
       "      <td>1000001</td>\n",
       "      <td>01000</td>\n",
       "      <td>R</td>\n",
       "      <td>4620114.0</td>\n",
       "      <td>519791.0</td>\n",
       "      <td>2014-01-02 11:08:03</td>\n",
       "      <td>1.0</td>\n",
       "      <td>Gazole</td>\n",
       "      <td>1304.0</td>\n",
       "    </tr>\n",
       "    <tr>\n",
       "      <th>1</th>\n",
       "      <td>1000001</td>\n",
       "      <td>01000</td>\n",
       "      <td>R</td>\n",
       "      <td>4620114.0</td>\n",
       "      <td>519791.0</td>\n",
       "      <td>2014-01-04 09:54:03</td>\n",
       "      <td>1.0</td>\n",
       "      <td>Gazole</td>\n",
       "      <td>1304.0</td>\n",
       "    </tr>\n",
       "    <tr>\n",
       "      <th>2</th>\n",
       "      <td>1000001</td>\n",
       "      <td>01000</td>\n",
       "      <td>R</td>\n",
       "      <td>4620114.0</td>\n",
       "      <td>519791.0</td>\n",
       "      <td>2014-01-05 10:27:09</td>\n",
       "      <td>1.0</td>\n",
       "      <td>Gazole</td>\n",
       "      <td>1304.0</td>\n",
       "    </tr>\n",
       "    <tr>\n",
       "      <th>3</th>\n",
       "      <td>1000001</td>\n",
       "      <td>01000</td>\n",
       "      <td>R</td>\n",
       "      <td>4620114.0</td>\n",
       "      <td>519791.0</td>\n",
       "      <td>2014-01-06 09:07:51</td>\n",
       "      <td>1.0</td>\n",
       "      <td>Gazole</td>\n",
       "      <td>1304.0</td>\n",
       "    </tr>\n",
       "    <tr>\n",
       "      <th>4</th>\n",
       "      <td>1000001</td>\n",
       "      <td>01000</td>\n",
       "      <td>R</td>\n",
       "      <td>4620114.0</td>\n",
       "      <td>519791.0</td>\n",
       "      <td>2014-01-07 09:23:56</td>\n",
       "      <td>1.0</td>\n",
       "      <td>Gazole</td>\n",
       "      <td>1304.0</td>\n",
       "    </tr>\n",
       "  </tbody>\n",
       "</table>\n",
       "</div>"
      ],
      "text/plain": [
       "   id_station code_postal type_station   latitude  longitude  \\\n",
       "0     1000001       01000            R  4620114.0   519791.0   \n",
       "1     1000001       01000            R  4620114.0   519791.0   \n",
       "2     1000001       01000            R  4620114.0   519791.0   \n",
       "3     1000001       01000            R  4620114.0   519791.0   \n",
       "4     1000001       01000            R  4620114.0   519791.0   \n",
       "\n",
       "           date_releve  type_carburant libelle_carburant    prix  \n",
       "0  2014-01-02 11:08:03             1.0            Gazole  1304.0  \n",
       "1  2014-01-04 09:54:03             1.0            Gazole  1304.0  \n",
       "2  2014-01-05 10:27:09             1.0            Gazole  1304.0  \n",
       "3  2014-01-06 09:07:51             1.0            Gazole  1304.0  \n",
       "4  2014-01-07 09:23:56             1.0            Gazole  1304.0  "
      ]
     },
     "execution_count": 23,
     "metadata": {},
     "output_type": "execute_result"
    }
   ],
   "source": [
    "df_2014.head()"
   ]
  },
  {
   "cell_type": "code",
   "execution_count": 22,
   "metadata": {
    "collapsed": true
   },
   "outputs": [],
   "source": [
    "#On renomme les colonnes\n",
    "df_2014.columns = ['id_station',\n",
    "                   'code_postal',\n",
    "                   'type_station',\n",
    "                   'latitude',\n",
    "                   'longitude',\n",
    "                   'date_releve',\n",
    "                   'type_carburant',\n",
    "                   'libelle_carburant',\n",
    "                   'prix']"
   ]
  },
  {
   "cell_type": "code",
   "execution_count": null,
   "metadata": {
    "collapsed": true
   },
   "outputs": [],
   "source": []
  },
  {
   "cell_type": "code",
   "execution_count": null,
   "metadata": {
    "collapsed": true
   },
   "outputs": [],
   "source": []
  },
  {
   "cell_type": "code",
   "execution_count": null,
   "metadata": {
    "collapsed": true
   },
   "outputs": [],
   "source": []
  },
  {
   "cell_type": "code",
   "execution_count": null,
   "metadata": {
    "collapsed": true
   },
   "outputs": [],
   "source": []
  },
  {
   "cell_type": "code",
   "execution_count": null,
   "metadata": {
    "collapsed": true
   },
   "outputs": [],
   "source": []
  },
  {
   "cell_type": "code",
   "execution_count": null,
   "metadata": {
    "collapsed": true
   },
   "outputs": [],
   "source": []
  },
  {
   "cell_type": "code",
   "execution_count": null,
   "metadata": {
    "collapsed": true
   },
   "outputs": [],
   "source": []
  },
  {
   "cell_type": "code",
   "execution_count": null,
   "metadata": {
    "collapsed": true
   },
   "outputs": [],
   "source": []
  },
  {
   "cell_type": "code",
   "execution_count": null,
   "metadata": {
    "collapsed": true
   },
   "outputs": [],
   "source": []
  },
  {
   "cell_type": "code",
   "execution_count": null,
   "metadata": {
    "collapsed": true
   },
   "outputs": [],
   "source": []
  },
  {
   "cell_type": "code",
   "execution_count": null,
   "metadata": {
    "collapsed": true
   },
   "outputs": [],
   "source": []
  },
  {
   "cell_type": "code",
   "execution_count": null,
   "metadata": {
    "collapsed": true
   },
   "outputs": [],
   "source": []
  }
 ],
 "metadata": {
  "kernelspec": {
   "display_name": "Python 3",
   "language": "python",
   "name": "python3"
  },
  "language_info": {
   "codemirror_mode": {
    "name": "ipython",
    "version": 3
   },
   "file_extension": ".py",
   "mimetype": "text/x-python",
   "name": "python",
   "nbconvert_exporter": "python",
   "pygments_lexer": "ipython3",
   "version": "3.6.1"
  }
 },
 "nbformat": 4,
 "nbformat_minor": 2
}
